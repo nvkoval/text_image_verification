{
 "cells": [
  {
   "cell_type": "markdown",
   "metadata": {},
   "source": [
    "## Imports"
   ]
  },
  {
   "cell_type": "code",
   "execution_count": null,
   "metadata": {},
   "outputs": [],
   "source": [
    "import re\n",
    "import logging\n",
    "import pandas as pd\n",
    "from pathlib import Path\n",
    "from sklearn.model_selection import train_test_split\n",
    "from typing import List"
   ]
  },
  {
   "cell_type": "code",
   "execution_count": 15,
   "metadata": {},
   "outputs": [],
   "source": [
    "logging.basicConfig(level=logging.INFO,\n",
    "                    format='%(asctime)s - %(levelname)s - %(message)s',\n",
    "                    force=True)\n",
    "logger = logging.getLogger(__name__)"
   ]
  },
  {
   "cell_type": "markdown",
   "metadata": {},
   "source": [
    "## Constants"
   ]
  },
  {
   "cell_type": "code",
   "execution_count": 16,
   "metadata": {},
   "outputs": [],
   "source": [
    "ANIMAL_CLASSES = [\n",
    "    'butterfly', 'cat', 'chicken', 'cow', 'dog',\n",
    "    'elephant', 'horse', 'sheep', 'spider', 'squirrel'\n",
    "]\n",
    "\n",
    "DATA_DIR = Path('../data/texts')\n",
    "TEXT_PATH = DATA_DIR / 'texts.txt'\n",
    "OUTPUT_DIR = DATA_DIR\n",
    "OUTPUT_DIR.mkdir(parents=True, exist_ok=True)"
   ]
  },
  {
   "cell_type": "markdown",
   "metadata": {},
   "source": [
    "## Utility Functions"
   ]
  },
  {
   "cell_type": "code",
   "execution_count": 17,
   "metadata": {},
   "outputs": [],
   "source": [
    "def read_text_dataset(file_path: str) -> List[str]:\n",
    "    \"\"\"Reads a text file and returns a list of non-empty sentences.\"\"\"\n",
    "    with open(file_path, 'r', encoding='utf-8') as f:\n",
    "        lines = [line.strip() for line in f if line.strip()]\n",
    "    logger.info(f\"Loaded {len(lines)} sentences from {file_path}\")\n",
    "    return lines\n",
    "\n",
    "\n",
    "def tokenize(sentence: str) -> List[str]:\n",
    "    \"\"\"Tokenizes a sentence into lowercase words, removing punctuation.\"\"\"\n",
    "    return re.findall(r'\\w+', sentence.lower())\n",
    "\n",
    "\n",
    "def create_ner_tags(tokens: List[str], animal_classes: List[str]) -> List[str]:\n",
    "    \"\"\"Assigns 'B-ANIMAL' to animal class words, otherwise 'O'.\"\"\"\n",
    "    return ['B-ANIMAL' if token in animal_classes else 'O' for token in tokens]\n",
    "\n",
    "\n",
    "def save_json(data: pd.DataFrame, path: str):\n",
    "    \"\"\"Saves a DataFrame to a JSON file.\"\"\"\n",
    "    data.to_json(path, orient='records', indent=2)\n",
    "    logger.info(f\"Saved dataset to {path} ({len(data)} records)\")"
   ]
  },
  {
   "cell_type": "markdown",
   "metadata": {},
   "source": [
    "## Create and Tag the Dataset"
   ]
  },
  {
   "cell_type": "code",
   "execution_count": 18,
   "metadata": {},
   "outputs": [
    {
     "name": "stderr",
     "output_type": "stream",
     "text": [
      "2025-07-04 13:14:51,010 - INFO - Loaded 1246 sentences from ..\\data\\texts\\texts.txt\n"
     ]
    },
    {
     "name": "stdout",
     "output_type": "stream",
     "text": [
      "<class 'pandas.core.frame.DataFrame'>\n",
      "RangeIndex: 1246 entries, 0 to 1245\n",
      "Data columns (total 3 columns):\n",
      " #   Column    Non-Null Count  Dtype \n",
      "---  ------    --------------  ----- \n",
      " 0   sentence  1246 non-null   object\n",
      " 1   tokens    1246 non-null   object\n",
      " 2   labels    1246 non-null   object\n",
      "dtypes: object(3)\n",
      "memory usage: 29.3+ KB\n"
     ]
    },
    {
     "data": {
      "text/html": [
       "<div>\n",
       "<style scoped>\n",
       "    .dataframe tbody tr th:only-of-type {\n",
       "        vertical-align: middle;\n",
       "    }\n",
       "\n",
       "    .dataframe tbody tr th {\n",
       "        vertical-align: top;\n",
       "    }\n",
       "\n",
       "    .dataframe thead th {\n",
       "        text-align: right;\n",
       "    }\n",
       "</style>\n",
       "<table border=\"1\" class=\"dataframe\">\n",
       "  <thead>\n",
       "    <tr style=\"text-align: right;\">\n",
       "      <th></th>\n",
       "      <th>sentence</th>\n",
       "      <th>tokens</th>\n",
       "      <th>labels</th>\n",
       "    </tr>\n",
       "  </thead>\n",
       "  <tbody>\n",
       "    <tr>\n",
       "      <th>0</th>\n",
       "      <td>A squirrel's front teeth grew continuously thr...</td>\n",
       "      <td>[a, squirrel, s, front, teeth, grew, continuou...</td>\n",
       "      <td>[O, B-ANIMAL, O, O, O, O, O, O, O, O, O, O, O,...</td>\n",
       "    </tr>\n",
       "    <tr>\n",
       "      <th>1</th>\n",
       "      <td>A crimson cow is fishing peacefully on a branch.</td>\n",
       "      <td>[a, crimson, cow, is, fishing, peacefully, on,...</td>\n",
       "      <td>[O, O, B-ANIMAL, O, O, O, O, O, O]</td>\n",
       "    </tr>\n",
       "    <tr>\n",
       "      <th>2</th>\n",
       "      <td>A obese boy is running at a butterfly.</td>\n",
       "      <td>[a, obese, boy, is, running, at, a, butterfly]</td>\n",
       "      <td>[O, O, O, O, O, O, O, B-ANIMAL]</td>\n",
       "    </tr>\n",
       "    <tr>\n",
       "      <th>3</th>\n",
       "      <td>A turquoise cow is sneaking at a butterfly.</td>\n",
       "      <td>[a, turquoise, cow, is, sneaking, at, a, butte...</td>\n",
       "      <td>[O, O, B-ANIMAL, O, O, O, O, B-ANIMAL]</td>\n",
       "    </tr>\n",
       "    <tr>\n",
       "      <th>4</th>\n",
       "      <td>The farmer has a cow, a horse, and several sheep.</td>\n",
       "      <td>[the, farmer, has, a, cow, a, horse, and, seve...</td>\n",
       "      <td>[O, O, O, O, B-ANIMAL, O, B-ANIMAL, O, O, B-AN...</td>\n",
       "    </tr>\n",
       "  </tbody>\n",
       "</table>\n",
       "</div>"
      ],
      "text/plain": [
       "                                            sentence  \\\n",
       "0  A squirrel's front teeth grew continuously thr...   \n",
       "1   A crimson cow is fishing peacefully on a branch.   \n",
       "2             A obese boy is running at a butterfly.   \n",
       "3        A turquoise cow is sneaking at a butterfly.   \n",
       "4  The farmer has a cow, a horse, and several sheep.   \n",
       "\n",
       "                                              tokens  \\\n",
       "0  [a, squirrel, s, front, teeth, grew, continuou...   \n",
       "1  [a, crimson, cow, is, fishing, peacefully, on,...   \n",
       "2     [a, obese, boy, is, running, at, a, butterfly]   \n",
       "3  [a, turquoise, cow, is, sneaking, at, a, butte...   \n",
       "4  [the, farmer, has, a, cow, a, horse, and, seve...   \n",
       "\n",
       "                                              labels  \n",
       "0  [O, B-ANIMAL, O, O, O, O, O, O, O, O, O, O, O,...  \n",
       "1                 [O, O, B-ANIMAL, O, O, O, O, O, O]  \n",
       "2                    [O, O, O, O, O, O, O, B-ANIMAL]  \n",
       "3             [O, O, B-ANIMAL, O, O, O, O, B-ANIMAL]  \n",
       "4  [O, O, O, O, B-ANIMAL, O, B-ANIMAL, O, O, B-AN...  "
      ]
     },
     "metadata": {},
     "output_type": "display_data"
    }
   ],
   "source": [
    "sentences = read_text_dataset(TEXT_PATH)\n",
    "\n",
    "df = pd.DataFrame({'sentence': sentences})\n",
    "\n",
    "df['tokens'] = df['sentence'].apply(tokenize)\n",
    "df['labels'] = df['tokens'].apply(lambda tokens: create_ner_tags(tokens, ANIMAL_CLASSES))\n",
    "\n",
    "df.info()\n",
    "display(df.head())"
   ]
  },
  {
   "cell_type": "markdown",
   "metadata": {},
   "source": [
    "## Save full dataset"
   ]
  },
  {
   "cell_type": "code",
   "execution_count": 19,
   "metadata": {},
   "outputs": [
    {
     "name": "stderr",
     "output_type": "stream",
     "text": [
      "2025-07-04 13:15:29,601 - INFO - Saved dataset to ..\\data\\texts\\ner_dataset.json (1246 records)\n"
     ]
    }
   ],
   "source": [
    "save_json(df, OUTPUT_DIR / 'ner_dataset.json')"
   ]
  },
  {
   "cell_type": "markdown",
   "metadata": {},
   "source": [
    "## Split the dataset into Train, Validation, and Test Sets"
   ]
  },
  {
   "cell_type": "code",
   "execution_count": 20,
   "metadata": {},
   "outputs": [
    {
     "name": "stderr",
     "output_type": "stream",
     "text": [
      "2025-07-04 13:16:18,412 - INFO - Saved dataset to ..\\data\\texts\\train_ner.json (872 records)\n",
      "2025-07-04 13:16:18,419 - INFO - Saved dataset to ..\\data\\texts\\val_ner.json (187 records)\n",
      "2025-07-04 13:16:18,429 - INFO - Saved dataset to ..\\data\\texts\\test_ner.json (187 records)\n",
      "2025-07-04 13:16:18,430 - INFO - Saved: 872 train, 187 val, 187 test samples.\n"
     ]
    }
   ],
   "source": [
    "train_df, temp_df = train_test_split(df, test_size=0.3, random_state=7)\n",
    "val_df, test_df = train_test_split(temp_df, test_size=0.5, random_state=7)\n",
    "\n",
    "save_json(train_df, OUTPUT_DIR / 'train_ner.json')\n",
    "save_json(val_df, OUTPUT_DIR / 'val_ner.json')\n",
    "save_json(test_df, OUTPUT_DIR / 'test_ner.json')\n",
    "\n",
    "logger.info(f\"Saved: {len(train_df)} train, {len(val_df)} val, {len(test_df)} test samples.\")"
   ]
  }
 ],
 "metadata": {
  "kernelspec": {
   "display_name": ".venv (3.12.9)",
   "language": "python",
   "name": "python3"
  },
  "language_info": {
   "codemirror_mode": {
    "name": "ipython",
    "version": 3
   },
   "file_extension": ".py",
   "mimetype": "text/x-python",
   "name": "python",
   "nbconvert_exporter": "python",
   "pygments_lexer": "ipython3",
   "version": "3.12.9"
  }
 },
 "nbformat": 4,
 "nbformat_minor": 2
}
