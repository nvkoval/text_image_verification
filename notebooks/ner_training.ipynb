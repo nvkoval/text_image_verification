{
  "cells": [
    {
      "cell_type": "markdown",
      "metadata": {
        "id": "vsdXYFAlaq1T"
      },
      "source": [
        "This notebook provide example of training NER model."
      ]
    },
    {
      "cell_type": "code",
      "execution_count": 12,
      "metadata": {
        "id": "-1IWJASkaq1W"
      },
      "outputs": [],
      "source": [
        "import os\n",
        "import sys\n",
        "from pathlib import Path\n",
        "\n",
        "project_root = Path.cwd().parent\n",
        "sys.path.append(str(project_root))\n",
        "\n",
        "import json\n",
        "import logging\n",
        "\n",
        "from ner.trainer_ner import AnimalNERTrainer\n",
        "\n",
        "from ner.inference_ner import extract_animals"
      ]
    },
    {
      "cell_type": "code",
      "execution_count": 3,
      "metadata": {
        "id": "Vls5iEKDaq1X"
      },
      "outputs": [],
      "source": [
        "logging.basicConfig(level=logging.INFO,\n",
        "                    format='%(asctime)s - %(levelname)s - %(message)s',\n",
        "                    force=True)\n",
        "logger = logging.getLogger(__name__)"
      ]
    },
    {
      "cell_type": "code",
      "execution_count": null,
      "metadata": {
        "colab": {
          "base_uri": "https://localhost:8080/"
        },
        "id": "1TFQNp413T7-",
        "outputId": "b00709d8-ea00-49d8-c2e4-c7fe52962cd8"
      },
      "outputs": [
        {
          "name": "stderr",
          "output_type": "stream",
          "text": [
            "2025-07-15 14:56:20,651 - INFO - Using device: cpu\n",
            "Some weights of DistilBertForTokenClassification were not initialized from the model checkpoint at dslim/distilbert-NER and are newly initialized because the shapes did not match:\n",
            "- classifier.bias: found shape torch.Size([9]) in the checkpoint and torch.Size([2]) in the model instantiated\n",
            "- classifier.weight: found shape torch.Size([9, 768]) in the checkpoint and torch.Size([2, 768]) in the model instantiated\n",
            "You should probably TRAIN this model on a down-stream task to be able to use it for predictions and inference.\n"
          ]
        }
      ],
      "source": [
        "trainer = AnimalNERTrainer(\n",
        "    data_dir='../data/texts',\n",
        "    model_path='../models/ner_model',\n",
        ")\n",
        "\n",
        "trainer.train()"
      ]
    },
    {
      "cell_type": "code",
      "execution_count": 8,
      "metadata": {
        "colab": {
          "base_uri": "https://localhost:8080/",
          "height": 338
        },
        "id": "VjwM6TGg4KLp",
        "outputId": "b54a206f-fb1b-4ba0-ef0b-c0c70081936e"
      },
      "outputs": [
        {
          "name": "stderr",
          "output_type": "stream",
          "text": [
            "2025-07-15 14:56:38,960 - INFO - Starting training...\n",
            "2025-07-15 14:56:39,061 - INFO - Loaded 872 records from ../data/texts\\train_ner.json\n",
            "2025-07-15 14:56:39,105 - INFO - Loaded 187 records from ../data/texts\\val_ner.json\n",
            "2025-07-15 14:56:39,126 - INFO - Epoch 1/3\n",
            "Training: 100%|██████████| 55/55 [05:55<00:00,  6.47s/it]\n",
            "2025-07-15 15:02:35,225 - INFO - Training Loss: 0.0823\n",
            "Evaluating: 100%|██████████| 12/12 [00:14<00:00,  1.22s/it]\n",
            "2025-07-15 15:02:50,581 - INFO - Validation Loss: 0.0039, F1 Score: 0.9986\n",
            "2025-07-15 15:02:52,888 - INFO - Save best model to models/ner_model with F1: 0.9986.\n",
            "2025-07-15 15:02:52,890 - INFO - Epoch 2/3\n",
            "Training: 100%|██████████| 55/55 [05:49<00:00,  6.36s/it]\n",
            "2025-07-15 15:08:42,814 - INFO - Training Loss: 0.0015\n",
            "Evaluating: 100%|██████████| 12/12 [00:21<00:00,  1.83s/it]\n",
            "2025-07-15 15:09:05,362 - INFO - Validation Loss: 0.0020, F1 Score: 0.9993\n",
            "2025-07-15 15:09:07,633 - INFO - Save best model to models/ner_model with F1: 0.9993.\n",
            "2025-07-15 15:09:07,637 - INFO - Epoch 3/3\n",
            "Training: 100%|██████████| 55/55 [06:05<00:00,  6.65s/it]\n",
            "2025-07-15 15:15:13,628 - INFO - Training Loss: 0.0005\n",
            "Evaluating: 100%|██████████| 12/12 [00:23<00:00,  1.94s/it]\n",
            "2025-07-15 15:15:37,471 - INFO - Validation Loss: 0.0026, F1 Score: 0.9986\n",
            "2025-07-15 15:15:37,474 - INFO - Training completed!\n"
          ]
        }
      ],
      "source": [
        "logger.info(\"Starting training...\")\n",
        "trainer.train()"
      ]
    },
    {
      "cell_type": "code",
      "execution_count": 9,
      "metadata": {
        "id": "dD9ASgCB4OgD"
      },
      "outputs": [
        {
          "name": "stderr",
          "output_type": "stream",
          "text": [
            "2025-07-15 15:15:47,774 - INFO - Loading best model for evaluation...\n",
            "2025-07-15 15:15:49,025 - INFO - Model loaded from models/ner_model\n"
          ]
        }
      ],
      "source": [
        "logger.info(\"Loading best model for evaluation...\")\n",
        "trainer.load_model()"
      ]
    },
    {
      "cell_type": "code",
      "execution_count": 10,
      "metadata": {},
      "outputs": [],
      "source": [
        "def load_json(path):\n",
        "    with open(path, 'r', encoding='utf-8') as f:\n",
        "        return json.load(f)"
      ]
    },
    {
      "cell_type": "code",
      "execution_count": 13,
      "metadata": {
        "id": "Dgf2E6fa4SkH"
      },
      "outputs": [
        {
          "name": "stderr",
          "output_type": "stream",
          "text": [
            "2025-07-15 15:17:25,876 - INFO - Evaluating on test set...\n",
            "Evaluating: 100%|██████████| 12/12 [00:31<00:00,  2.60s/it]\n",
            "2025-07-15 15:17:57,281 - INFO - Test Loss: 0.0005\n",
            "2025-07-15 15:17:57,284 - INFO - Test F1 Score: 1.0000\n",
            "2025-07-15 15:17:57,287 - INFO - Test precision: 1.0000\n",
            "2025-07-15 15:17:57,291 - INFO - Test recall: 1.0000\n"
          ]
        }
      ],
      "source": [
        "logger.info(\"Evaluating on test set...\")\n",
        "test_data = load_json(os.path.join(trainer.data_dir, 'test_ner.json'))\n",
        "test_loader = trainer.create_dataloader(test_data,\n",
        "                                        batch_size=trainer.batch_size,\n",
        "                                        shuffle=False)\n",
        "test_loss, metrics = trainer.evaluate(test_loader)\n",
        "\n",
        "logger.info(f\"Test Loss: {test_loss:.4f}\")\n",
        "logger.info(f\"Test F1 Score: {metrics['f1_score']:.4f}\")\n",
        "logger.info(f\"Test precision: {metrics['precision']:.4f}\")\n",
        "logger.info(f\"Test recall: {metrics['recall']:.4f}\")"
      ]
    },
    {
      "cell_type": "code",
      "execution_count": 14,
      "metadata": {
        "colab": {
          "base_uri": "https://localhost:8080/"
        },
        "id": "lCt4tLk_bvgT",
        "outputId": "858afa8c-62c1-4941-8c33-070b3a92158d"
      },
      "outputs": [
        {
          "name": "stdout",
          "output_type": "stream",
          "text": [
            "\n",
            "Prediction Results:\n",
            "i: O\n",
            "saw: O\n",
            "a: O\n",
            "cat: B-ANIMAL\n",
            "playing: O\n",
            "with: O\n",
            "a: O\n",
            "ball: O\n",
            "\n",
            "Extracted Animals: ['cat']\n"
          ]
        }
      ],
      "source": [
        "test_text = \"I saw a cat playing with a ball.\"\n",
        "\n",
        "# test_tokens = tokenize(test_text)\n",
        "\n",
        "predictions = trainer.predict(test_text)\n",
        "animals = trainer.extract_entities(test_text)\n",
        "\n",
        "print(\"\\nPrediction Results:\")\n",
        "for token, label in predictions:\n",
        "    print(f\"{token}: {label}\")\n",
        "\n",
        "print(f\"\\nExtracted Animals: {animals}\")"
      ]
    },
    {
      "cell_type": "code",
      "execution_count": 15,
      "metadata": {
        "id": "04tRqVgf4lvZ"
      },
      "outputs": [
        {
          "name": "stderr",
          "output_type": "stream",
          "text": [
            "2025-07-15 15:22:40,735 - INFO - Initializing trainer...\n",
            "2025-07-15 15:22:40,742 - INFO - Using device: cpu\n",
            "Some weights of DistilBertForTokenClassification were not initialized from the model checkpoint at dslim/distilbert-NER and are newly initialized because the shapes did not match:\n",
            "- classifier.bias: found shape torch.Size([9]) in the checkpoint and torch.Size([2]) in the model instantiated\n",
            "- classifier.weight: found shape torch.Size([9, 768]) in the checkpoint and torch.Size([2, 768]) in the model instantiated\n",
            "You should probably TRAIN this model on a down-stream task to be able to use it for predictions and inference.\n",
            "2025-07-15 15:22:42,535 - INFO - Loading best model for prediction...\n",
            "2025-07-15 15:22:45,448 - INFO - Model loaded from ./models/ner_model\n"
          ]
        },
        {
          "name": "stdout",
          "output_type": "stream",
          "text": [
            "Animals found in text: ['cat']\n"
          ]
        }
      ],
      "source": [
        "animals_from_text = extract_animals(test_text)\n",
        "print(f\"Animals found in text: {animals_from_text}\")"
      ]
    }
  ],
  "metadata": {
    "accelerator": "GPU",
    "colab": {
      "gpuType": "T4",
      "provenance": []
    },
    "kernelspec": {
      "display_name": ".venv",
      "language": "python",
      "name": "python3"
    },
    "language_info": {
      "codemirror_mode": {
        "name": "ipython",
        "version": 3
      },
      "file_extension": ".py",
      "mimetype": "text/x-python",
      "name": "python",
      "nbconvert_exporter": "python",
      "pygments_lexer": "ipython3",
      "version": "3.12.9"
    }
  },
  "nbformat": 4,
  "nbformat_minor": 0
}
